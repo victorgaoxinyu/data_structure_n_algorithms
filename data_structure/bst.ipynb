{
 "cells": [
  {
   "cell_type": "code",
   "execution_count": null,
   "metadata": {},
   "outputs": [],
   "source": [
    "class BST:\n",
    "    def __init__(self) -> None:\n",
    "        self.root = None\n",
    "        self.left = None\n",
    "        self.right = None\n",
    "\n",
    "    def insert_bstnode(self, i, node):\n",
    "        if node == None:\n",
    "            node.value = i\n",
    "        if i < node.value:\n",
    "            self.insert_bstnode(i, node.left)\n",
    "        elif i > node.value:\n",
    "            self.insert_bstnode(i, node.right)\n",
    "\n",
    "        return node\n",
    "    \n",
    "    def bst_insert(self, i):\n",
    "        self.insert_bstnode(i, self.root)"
   ]
  },
  {
   "cell_type": "code",
   "execution_count": null,
   "metadata": {},
   "outputs": [],
   "source": [
    "class Node:\n",
    "    def __init__(self, key) -> None:\n",
    "        self.value = key\n",
    "        self.left = None\n",
    "        self.right = None\n",
    "\n",
    "\n",
    "def insert_bst_node(i, node):\n",
    "    if node == None:\n",
    "        node.value = i\n",
    "    if i < node.value:\n",
    "        insert_bst_node(i, node.left)\n",
    "    elif i > node.value: \n",
    "        insert_bst_node(i, node.right)\n",
    "    \n",
    "    return node\n",
    "\n",
    "\n"
   ]
  }
 ],
 "metadata": {
  "language_info": {
   "name": "python"
  }
 },
 "nbformat": 4,
 "nbformat_minor": 2
}
