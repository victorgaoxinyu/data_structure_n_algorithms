{
 "cells": [
  {
   "cell_type": "code",
   "execution_count": null,
   "metadata": {},
   "outputs": [],
   "source": []
  },
  {
   "cell_type": "markdown",
   "metadata": {},
   "source": [
    "|    |Pros|Cons|\n",
    "|----|----|---|\n",
    "|Selection sort | Easy to understand | O(n^2) Time|\n",
    "|Quick sort | Average O(nlog(n)) Time, O(1) Space | Worst case O(n^2) Time, not stable |\n",
    "|Merge sort | Worst cast O(nlog(n)) Time, Stable | O(n) Space\n",
    "|Heap sort | Worst case O(nlog(n)) Time O(1) Space | Not stable\n",
    "\n",
    "## Selection sort\n"
   ]
  },
  {
   "cell_type": "code",
   "execution_count": 8,
   "metadata": {},
   "outputs": [
    {
     "name": "stdout",
     "output_type": "stream",
     "text": [
      "[1, 2, 4, 3]\n",
      "[1, 2, 4, 3]\n",
      "[1, 2, 3, 4]\n"
     ]
    }
   ],
   "source": [
    "head = [4,2,1,3]\n",
    "\n",
    "for i in range(len(head)-1):\n",
    "\n",
    "    sml_idx = i\n",
    "    for m in range(i, len(head)):\n",
    "       if head[m] < head[sml_idx]:\n",
    "           sml_idx = m\n",
    "\n",
    "    tmp = head[i]\n",
    "    head[i] = head[sml_idx]\n",
    "    head[sml_idx] = tmp\n",
    "\n",
    "    print(head)\n"
   ]
  },
  {
   "cell_type": "markdown",
   "metadata": {},
   "source": [
    "## Quick Sort\n",
    "- Divide and Conquer"
   ]
  },
  {
   "cell_type": "code",
   "execution_count": 34,
   "metadata": {},
   "outputs": [
    {
     "name": "stdout",
     "output_type": "stream",
     "text": [
      "[1, 2, 3, 4]\n"
     ]
    }
   ],
   "source": [
    "head = [4, 2, 1, 3]\n",
    "def quick_sort(arr):\n",
    "    def swap(arr, idx1, idx2):\n",
    "        arr[idx1], arr[idx2] = arr[idx2], arr[idx1]\n",
    "\n",
    "    def quick_sort_range(arr, first, last):\n",
    "        if last <= first:  # sub arr only have 1 or 0 element\n",
    "            return\n",
    "        \n",
    "        pivot = arr[first]\n",
    "        pos = last\n",
    "        for i in range(last, first, -1):\n",
    "            if arr[i] > pivot:\n",
    "                swap(arr, i, pos) # push the element bigger than pivot to the back\n",
    "                pos -= 1\n",
    "\n",
    "        swap(arr, first, pos)  # switch pivot with pos\n",
    "        quick_sort_range(arr, first, pos-1)\n",
    "        quick_sort_range(arr, pos+1, last)\n",
    "\n",
    "    quick_sort_range(arr, 0, len(arr) - 1)\n",
    "\n",
    "    return arr\n",
    "print(quick_sort(head))"
   ]
  },
  {
   "cell_type": "markdown",
   "metadata": {},
   "source": [
    "## Merge Sort\n",
    "- Split into L and R\n",
    "- merge L and R\n",
    "- exit point: when len(arr) <= 1"
   ]
  },
  {
   "cell_type": "code",
   "execution_count": 40,
   "metadata": {},
   "outputs": [
    {
     "name": "stdout",
     "output_type": "stream",
     "text": [
      "[1, 2, 3, 4]\n"
     ]
    }
   ],
   "source": [
    "head = [4, 2, 1, 3]\n",
    "def mergeSort(arr):\n",
    "    if len(arr) > 1:\n",
    "        mid = len(arr) // 2  # floor division\n",
    "        L = arr[:mid]\n",
    "        R = arr[mid:]\n",
    "        mergeSort(L)\n",
    "        mergeSort(R)\n",
    "        \n",
    "        # merge 2 sorted arr\n",
    "        head_L = 0\n",
    "        head_R = 0\n",
    "        i = 0\n",
    "        while head_L < len(L) and head_R < len(R):\n",
    "            if L[head_L] < R[head_R]:\n",
    "                arr[i] = L[head_L]\n",
    "                head_L += 1\n",
    "            else:\n",
    "                arr[i] = R[head_R]\n",
    "                head_R += 1\n",
    "            i += 1\n",
    "        # copy leftover\n",
    "        while head_L < len(L):\n",
    "            arr[i] = L[head_L]\n",
    "            head_L += 1\n",
    "            i += 1\n",
    "        while head_R < len(R):\n",
    "            arr[i] = R[head_R]\n",
    "            head_R += 1\n",
    "            i += 1\n",
    "    return arr\n",
    "\n",
    "print(mergeSort(head))\n",
    "        "
   ]
  },
  {
   "cell_type": "markdown",
   "metadata": {},
   "source": [
    "## Heap Sort\n",
    "- Insert arr into heap (Heapify), Each insert O(log n)\n",
    "- Extract min element out from heap, Each Extract O(log n)\n",
    "- "
   ]
  },
  {
   "cell_type": "code",
   "execution_count": 60,
   "metadata": {},
   "outputs": [
    {
     "name": "stdout",
     "output_type": "stream",
     "text": [
      "[2, 4, 5, 6, 15, 18, 19, 25, 30]\n"
     ]
    }
   ],
   "source": [
    "arr = [18, 2, 25, 4, 30, 15, 19, 5, 6]\n",
    "\n",
    "def heapSort(arr):\n",
    "    def parent(idx):\n",
    "        return (idx - 2) // 2\n",
    "    \n",
    "    def fix_down(arr, n, i):\n",
    "        largest = i  # root\n",
    "        left = 2*i + 1\n",
    "        right = left + 1\n",
    "\n",
    "        # check if left exist and greater than root\n",
    "        if left < n and arr[left] > arr[i]:\n",
    "            largest = left\n",
    "\n",
    "        # check if right exist and greater than current largest\n",
    "        if right < n and arr[right] > arr[largest]:\n",
    "            largest = right\n",
    "\n",
    "        # swap largest with root\n",
    "        if largest != i:\n",
    "            arr[i], arr[largest] = arr[largest], arr[i]\n",
    "\n",
    "            fix_down(arr, n, largest)\n",
    "\n",
    "\n",
    "    def heapify(arr):\n",
    "        n = len(arr)\n",
    "        for i in range(parent(n-1), -1, -1):\n",
    "            fix_down(arr, n, i)\n",
    "\n",
    "    n = len(arr)\n",
    "    heapify(arr)\n",
    "    while n > 1:\n",
    "        arr[0], arr[n-1] = arr[n-1], arr[0]\n",
    "        n -= 1\n",
    "        fix_down(arr, n, 0)\n",
    "\n",
    "    print(arr)\n",
    "\n",
    "heapSort(arr)\n"
   ]
  }
 ],
 "metadata": {
  "kernelspec": {
   "display_name": "Python 3",
   "language": "python",
   "name": "python3"
  },
  "language_info": {
   "codemirror_mode": {
    "name": "ipython",
    "version": 3
   },
   "file_extension": ".py",
   "mimetype": "text/x-python",
   "name": "python",
   "nbconvert_exporter": "python",
   "pygments_lexer": "ipython3",
   "version": "3.0.0"
  }
 },
 "nbformat": 4,
 "nbformat_minor": 2
}
