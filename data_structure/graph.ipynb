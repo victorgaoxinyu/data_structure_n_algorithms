{
 "cells": [
  {
   "cell_type": "markdown",
   "metadata": {},
   "source": [
    "## Graph\n",
    "- G = (V, E)\n",
    "- G: Graph\n",
    "- V: Set of Verticies\n",
    "- E: Set of Edges"
   ]
  }
 ],
 "metadata": {
  "language_info": {
   "name": "python"
  }
 },
 "nbformat": 4,
 "nbformat_minor": 2
}
